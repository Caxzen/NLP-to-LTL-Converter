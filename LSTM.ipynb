{
 "cells": [
  {
   "cell_type": "code",
   "execution_count": 1,
   "metadata": {},
   "outputs": [],
   "source": [
    "import pandas as pd\n",
    "from tensorflow.keras.models import Sequential\n",
    "from tensorflow.keras.layers import Embedding, LSTM, Dense\n",
    "from tensorflow.keras.preprocessing.text import Tokenizer\n",
    "from tensorflow.keras.preprocessing.sequence import pad_sequences\n",
    "from tensorflow.keras.utils import to_categorical\n",
    "from sklearn.model_selection import train_test_split\n",
    "from sklearn.preprocessing import LabelEncoder\n",
    "import numpy as np\n"
   ]
  },
  {
   "cell_type": "code",
   "execution_count": 2,
   "metadata": {},
   "outputs": [],
   "source": [
    "# Load the dataset\n",
    "df = pd.read_csv('cleaned_dataset.csv')"
   ]
  },
  {
   "cell_type": "code",
   "execution_count": 3,
   "metadata": {},
   "outputs": [],
   "source": [
    "# Tokenize \n",
    "tokenizer = Tokenizer(num_words=5000)\n",
    "tokenizer.fit_on_texts(df['nlp_statements'])"
   ]
  },
  {
   "cell_type": "code",
   "execution_count": 4,
   "metadata": {},
   "outputs": [],
   "source": [
    "sequences = tokenizer.texts_to_sequences(df['nlp_statements'])\n",
    "padded_sequences = pad_sequences(sequences, maxlen=100)"
   ]
  },
  {
   "cell_type": "code",
   "execution_count": 5,
   "metadata": {},
   "outputs": [],
   "source": [
    "\n",
    "le = LabelEncoder()\n",
    "labels = le.fit_transform(df['ltl_formulas'])\n",
    "one_hot_labels = to_categorical(labels)"
   ]
  },
  {
   "cell_type": "code",
   "execution_count": 6,
   "metadata": {},
   "outputs": [
    {
     "name": "stderr",
     "output_type": "stream",
     "text": [
      "C:\\Users\\user 2\\AppData\\Local\\Packages\\PythonSoftwareFoundation.Python.3.11_qbz5n2kfra8p0\\LocalCache\\local-packages\\Python311\\site-packages\\keras\\src\\layers\\core\\embedding.py:90: UserWarning: Argument `input_length` is deprecated. Just remove it.\n",
      "  warnings.warn(\n"
     ]
    }
   ],
   "source": [
    "# Split the dataset \n",
    "train_sequences, test_sequences, train_labels, test_labels = train_test_split(padded_sequences, one_hot_labels, test_size=0.2, random_state=42)\n",
    "\n",
    "#LSTM model\n",
    "model = Sequential()\n",
    "model.add(Embedding(input_dim=5000, output_dim=128, input_length=100))\n",
    "model.add(LSTM(units=64, dropout=0.2))\n",
    "model.add(Dense(one_hot_labels.shape[1], activation='softmax'))"
   ]
  },
  {
   "cell_type": "code",
   "execution_count": 7,
   "metadata": {},
   "outputs": [
    {
     "name": "stdout",
     "output_type": "stream",
     "text": [
      "Epoch 1/75\n",
      "\u001b[1m18/18\u001b[0m \u001b[32m━━━━━━━━━━━━━━━━━━━━\u001b[0m\u001b[37m\u001b[0m \u001b[1m8s\u001b[0m 96ms/step - accuracy: 0.0000e+00 - loss: 6.5238 - val_accuracy: 0.0000e+00 - val_loss: 6.5301\n",
      "Epoch 2/75\n",
      "\u001b[1m18/18\u001b[0m \u001b[32m━━━━━━━━━━━━━━━━━━━━\u001b[0m\u001b[37m\u001b[0m \u001b[1m1s\u001b[0m 53ms/step - accuracy: 0.0138 - loss: 6.5128 - val_accuracy: 0.0000e+00 - val_loss: 6.5521\n",
      "Epoch 3/75\n",
      "\u001b[1m18/18\u001b[0m \u001b[32m━━━━━━━━━━━━━━━━━━━━\u001b[0m\u001b[37m\u001b[0m \u001b[1m2s\u001b[0m 72ms/step - accuracy: 0.0415 - loss: 6.4964 - val_accuracy: 0.0000e+00 - val_loss: 7.0720\n",
      "Epoch 4/75\n",
      "\u001b[1m18/18\u001b[0m \u001b[32m━━━━━━━━━━━━━━━━━━━━\u001b[0m\u001b[37m\u001b[0m \u001b[1m1s\u001b[0m 46ms/step - accuracy: 0.0000e+00 - loss: 6.4241 - val_accuracy: 0.0000e+00 - val_loss: 7.0359\n",
      "Epoch 5/75\n",
      "\u001b[1m18/18\u001b[0m \u001b[32m━━━━━━━━━━━━━━━━━━━━\u001b[0m\u001b[37m\u001b[0m \u001b[1m1s\u001b[0m 58ms/step - accuracy: 0.0061 - loss: 6.3893 - val_accuracy: 0.0000e+00 - val_loss: 7.7027\n",
      "Epoch 6/75\n",
      "\u001b[1m18/18\u001b[0m \u001b[32m━━━━━━━━━━━━━━━━━━━━\u001b[0m\u001b[37m\u001b[0m \u001b[1m1s\u001b[0m 42ms/step - accuracy: 0.0127 - loss: 6.3159 - val_accuracy: 0.0000e+00 - val_loss: 8.2160\n",
      "Epoch 7/75\n",
      "\u001b[1m18/18\u001b[0m \u001b[32m━━━━━━━━━━━━━━━━━━━━\u001b[0m\u001b[37m\u001b[0m \u001b[1m1s\u001b[0m 37ms/step - accuracy: 0.0093 - loss: 6.2223 - val_accuracy: 0.0000e+00 - val_loss: 8.5631\n",
      "Epoch 8/75\n",
      "\u001b[1m18/18\u001b[0m \u001b[32m━━━━━━━━━━━━━━━━━━━━\u001b[0m\u001b[37m\u001b[0m \u001b[1m1s\u001b[0m 42ms/step - accuracy: 0.0121 - loss: 6.1158 - val_accuracy: 0.0000e+00 - val_loss: 8.9046\n",
      "Epoch 9/75\n",
      "\u001b[1m18/18\u001b[0m \u001b[32m━━━━━━━━━━━━━━━━━━━━\u001b[0m\u001b[37m\u001b[0m \u001b[1m1s\u001b[0m 67ms/step - accuracy: 0.0180 - loss: 5.9592 - val_accuracy: 0.0071 - val_loss: 9.2188\n",
      "Epoch 10/75\n",
      "\u001b[1m18/18\u001b[0m \u001b[32m━━━━━━━━━━━━━━━━━━━━\u001b[0m\u001b[37m\u001b[0m \u001b[1m1s\u001b[0m 34ms/step - accuracy: 0.0270 - loss: 5.7994 - val_accuracy: 0.0000e+00 - val_loss: 9.4537\n",
      "Epoch 11/75\n",
      "\u001b[1m18/18\u001b[0m \u001b[32m━━━━━━━━━━━━━━━━━━━━\u001b[0m\u001b[37m\u001b[0m \u001b[1m1s\u001b[0m 33ms/step - accuracy: 0.0277 - loss: 5.6122 - val_accuracy: 0.0000e+00 - val_loss: 9.4534\n",
      "Epoch 12/75\n",
      "\u001b[1m18/18\u001b[0m \u001b[32m━━━━━━━━━━━━━━━━━━━━\u001b[0m\u001b[37m\u001b[0m \u001b[1m1s\u001b[0m 36ms/step - accuracy: 0.0504 - loss: 5.4716 - val_accuracy: 0.0071 - val_loss: 9.7681\n",
      "Epoch 13/75\n",
      "\u001b[1m18/18\u001b[0m \u001b[32m━━━━━━━━━━━━━━━━━━━━\u001b[0m\u001b[37m\u001b[0m \u001b[1m1s\u001b[0m 33ms/step - accuracy: 0.0751 - loss: 5.2741 - val_accuracy: 0.0071 - val_loss: 9.8636\n",
      "Epoch 14/75\n",
      "\u001b[1m18/18\u001b[0m \u001b[32m━━━━━━━━━━━━━━━━━━━━\u001b[0m\u001b[37m\u001b[0m \u001b[1m1s\u001b[0m 33ms/step - accuracy: 0.1280 - loss: 5.0902 - val_accuracy: 0.0071 - val_loss: 9.8176\n",
      "Epoch 15/75\n",
      "\u001b[1m18/18\u001b[0m \u001b[32m━━━━━━━━━━━━━━━━━━━━\u001b[0m\u001b[37m\u001b[0m \u001b[1m1s\u001b[0m 38ms/step - accuracy: 0.1685 - loss: 4.9467 - val_accuracy: 0.0071 - val_loss: 10.1463\n",
      "Epoch 16/75\n",
      "\u001b[1m18/18\u001b[0m \u001b[32m━━━━━━━━━━━━━━━━━━━━\u001b[0m\u001b[37m\u001b[0m \u001b[1m1s\u001b[0m 38ms/step - accuracy: 0.2546 - loss: 4.7571 - val_accuracy: 0.0071 - val_loss: 10.0055\n",
      "Epoch 17/75\n",
      "\u001b[1m18/18\u001b[0m \u001b[32m━━━━━━━━━━━━━━━━━━━━\u001b[0m\u001b[37m\u001b[0m \u001b[1m1s\u001b[0m 41ms/step - accuracy: 0.3201 - loss: 4.5933 - val_accuracy: 0.0071 - val_loss: 10.1164\n",
      "Epoch 18/75\n",
      "\u001b[1m18/18\u001b[0m \u001b[32m━━━━━━━━━━━━━━━━━━━━\u001b[0m\u001b[37m\u001b[0m \u001b[1m1s\u001b[0m 39ms/step - accuracy: 0.3914 - loss: 4.4555 - val_accuracy: 0.0071 - val_loss: 10.3262\n",
      "Epoch 19/75\n",
      "\u001b[1m18/18\u001b[0m \u001b[32m━━━━━━━━━━━━━━━━━━━━\u001b[0m\u001b[37m\u001b[0m \u001b[1m1s\u001b[0m 38ms/step - accuracy: 0.4233 - loss: 4.2943 - val_accuracy: 0.0071 - val_loss: 10.2663\n",
      "Epoch 20/75\n",
      "\u001b[1m18/18\u001b[0m \u001b[32m━━━━━━━━━━━━━━━━━━━━\u001b[0m\u001b[37m\u001b[0m \u001b[1m1s\u001b[0m 33ms/step - accuracy: 0.5212 - loss: 4.1361 - val_accuracy: 0.0071 - val_loss: 10.2977\n",
      "Epoch 21/75\n",
      "\u001b[1m18/18\u001b[0m \u001b[32m━━━━━━━━━━━━━━━━━━━━\u001b[0m\u001b[37m\u001b[0m \u001b[1m1s\u001b[0m 41ms/step - accuracy: 0.5670 - loss: 4.0029 - val_accuracy: 0.0071 - val_loss: 10.3691\n",
      "Epoch 22/75\n",
      "\u001b[1m18/18\u001b[0m \u001b[32m━━━━━━━━━━━━━━━━━━━━\u001b[0m\u001b[37m\u001b[0m \u001b[1m1s\u001b[0m 33ms/step - accuracy: 0.6207 - loss: 3.8582 - val_accuracy: 0.0071 - val_loss: 10.4063\n",
      "Epoch 23/75\n",
      "\u001b[1m18/18\u001b[0m \u001b[32m━━━━━━━━━━━━━━━━━━━━\u001b[0m\u001b[37m\u001b[0m \u001b[1m1s\u001b[0m 34ms/step - accuracy: 0.6950 - loss: 3.7058 - val_accuracy: 0.0071 - val_loss: 10.5088\n",
      "Epoch 24/75\n",
      "\u001b[1m18/18\u001b[0m \u001b[32m━━━━━━━━━━━━━━━━━━━━\u001b[0m\u001b[37m\u001b[0m \u001b[1m1s\u001b[0m 35ms/step - accuracy: 0.6669 - loss: 3.5851 - val_accuracy: 0.0071 - val_loss: 10.5729\n",
      "Epoch 25/75\n",
      "\u001b[1m18/18\u001b[0m \u001b[32m━━━━━━━━━━━━━━━━━━━━\u001b[0m\u001b[37m\u001b[0m \u001b[1m1s\u001b[0m 37ms/step - accuracy: 0.7775 - loss: 3.4506 - val_accuracy: 0.0071 - val_loss: 10.6853\n",
      "Epoch 26/75\n",
      "\u001b[1m18/18\u001b[0m \u001b[32m━━━━━━━━━━━━━━━━━━━━\u001b[0m\u001b[37m\u001b[0m \u001b[1m1s\u001b[0m 33ms/step - accuracy: 0.7801 - loss: 3.3363 - val_accuracy: 0.0071 - val_loss: 10.6788\n",
      "Epoch 27/75\n",
      "\u001b[1m18/18\u001b[0m \u001b[32m━━━━━━━━━━━━━━━━━━━━\u001b[0m\u001b[37m\u001b[0m \u001b[1m1s\u001b[0m 32ms/step - accuracy: 0.8380 - loss: 3.1643 - val_accuracy: 0.0071 - val_loss: 10.7446\n",
      "Epoch 28/75\n",
      "\u001b[1m18/18\u001b[0m \u001b[32m━━━━━━━━━━━━━━━━━━━━\u001b[0m\u001b[37m\u001b[0m \u001b[1m1s\u001b[0m 35ms/step - accuracy: 0.8681 - loss: 3.0572 - val_accuracy: 0.0071 - val_loss: 10.7393\n",
      "Epoch 29/75\n",
      "\u001b[1m18/18\u001b[0m \u001b[32m━━━━━━━━━━━━━━━━━━━━\u001b[0m\u001b[37m\u001b[0m \u001b[1m1s\u001b[0m 42ms/step - accuracy: 0.8628 - loss: 2.9678 - val_accuracy: 0.0071 - val_loss: 10.7820\n",
      "Epoch 30/75\n",
      "\u001b[1m18/18\u001b[0m \u001b[32m━━━━━━━━━━━━━━━━━━━━\u001b[0m\u001b[37m\u001b[0m \u001b[1m1s\u001b[0m 64ms/step - accuracy: 0.8591 - loss: 2.8545 - val_accuracy: 0.0071 - val_loss: 10.8569\n",
      "Epoch 31/75\n",
      "\u001b[1m18/18\u001b[0m \u001b[32m━━━━━━━━━━━━━━━━━━━━\u001b[0m\u001b[37m\u001b[0m \u001b[1m1s\u001b[0m 44ms/step - accuracy: 0.8881 - loss: 2.7628 - val_accuracy: 0.0143 - val_loss: 10.8872\n",
      "Epoch 32/75\n",
      "\u001b[1m18/18\u001b[0m \u001b[32m━━━━━━━━━━━━━━━━━━━━\u001b[0m\u001b[37m\u001b[0m \u001b[1m1s\u001b[0m 36ms/step - accuracy: 0.8917 - loss: 2.6314 - val_accuracy: 0.0071 - val_loss: 10.9388\n",
      "Epoch 33/75\n",
      "\u001b[1m18/18\u001b[0m \u001b[32m━━━━━━━━━━━━━━━━━━━━\u001b[0m\u001b[37m\u001b[0m \u001b[1m1s\u001b[0m 47ms/step - accuracy: 0.9286 - loss: 2.5246 - val_accuracy: 0.0143 - val_loss: 11.0074\n",
      "Epoch 34/75\n",
      "\u001b[1m18/18\u001b[0m \u001b[32m━━━━━━━━━━━━━━━━━━━━\u001b[0m\u001b[37m\u001b[0m \u001b[1m2s\u001b[0m 63ms/step - accuracy: 0.9358 - loss: 2.4126 - val_accuracy: 0.0143 - val_loss: 11.0981\n",
      "Epoch 35/75\n",
      "\u001b[1m18/18\u001b[0m \u001b[32m━━━━━━━━━━━━━━━━━━━━\u001b[0m\u001b[37m\u001b[0m \u001b[1m1s\u001b[0m 43ms/step - accuracy: 0.9268 - loss: 2.3388 - val_accuracy: 0.0143 - val_loss: 11.0327\n",
      "Epoch 36/75\n",
      "\u001b[1m18/18\u001b[0m \u001b[32m━━━━━━━━━━━━━━━━━━━━\u001b[0m\u001b[37m\u001b[0m \u001b[1m1s\u001b[0m 45ms/step - accuracy: 0.9299 - loss: 2.2271 - val_accuracy: 0.0143 - val_loss: 11.1966\n",
      "Epoch 37/75\n",
      "\u001b[1m18/18\u001b[0m \u001b[32m━━━━━━━━━━━━━━━━━━━━\u001b[0m\u001b[37m\u001b[0m \u001b[1m1s\u001b[0m 41ms/step - accuracy: 0.9447 - loss: 2.1598 - val_accuracy: 0.0071 - val_loss: 11.1605\n",
      "Epoch 38/75\n",
      "\u001b[1m18/18\u001b[0m \u001b[32m━━━━━━━━━━━━━━━━━━━━\u001b[0m\u001b[37m\u001b[0m \u001b[1m1s\u001b[0m 50ms/step - accuracy: 0.9595 - loss: 2.0357 - val_accuracy: 0.0071 - val_loss: 11.2728\n",
      "Epoch 39/75\n",
      "\u001b[1m18/18\u001b[0m \u001b[32m━━━━━━━━━━━━━━━━━━━━\u001b[0m\u001b[37m\u001b[0m \u001b[1m1s\u001b[0m 37ms/step - accuracy: 0.9588 - loss: 1.9199 - val_accuracy: 0.0143 - val_loss: 11.2455\n",
      "Epoch 40/75\n",
      "\u001b[1m18/18\u001b[0m \u001b[32m━━━━━━━━━━━━━━━━━━━━\u001b[0m\u001b[37m\u001b[0m \u001b[1m1s\u001b[0m 35ms/step - accuracy: 0.9687 - loss: 1.8455 - val_accuracy: 0.0143 - val_loss: 11.3067\n",
      "Epoch 41/75\n",
      "\u001b[1m18/18\u001b[0m \u001b[32m━━━━━━━━━━━━━━━━━━━━\u001b[0m\u001b[37m\u001b[0m \u001b[1m1s\u001b[0m 44ms/step - accuracy: 0.9483 - loss: 1.8240 - val_accuracy: 0.0143 - val_loss: 11.2742\n",
      "Epoch 42/75\n",
      "\u001b[1m18/18\u001b[0m \u001b[32m━━━━━━━━━━━━━━━━━━━━\u001b[0m\u001b[37m\u001b[0m \u001b[1m1s\u001b[0m 46ms/step - accuracy: 0.9739 - loss: 1.7051 - val_accuracy: 0.0143 - val_loss: 11.3407\n",
      "Epoch 43/75\n",
      "\u001b[1m18/18\u001b[0m \u001b[32m━━━━━━━━━━━━━━━━━━━━\u001b[0m\u001b[37m\u001b[0m \u001b[1m1s\u001b[0m 48ms/step - accuracy: 0.9722 - loss: 1.6569 - val_accuracy: 0.0143 - val_loss: 11.4299\n",
      "Epoch 44/75\n",
      "\u001b[1m18/18\u001b[0m \u001b[32m━━━━━━━━━━━━━━━━━━━━\u001b[0m\u001b[37m\u001b[0m \u001b[1m1s\u001b[0m 45ms/step - accuracy: 0.9729 - loss: 1.5435 - val_accuracy: 0.0071 - val_loss: 11.5122\n",
      "Epoch 45/75\n",
      "\u001b[1m18/18\u001b[0m \u001b[32m━━━━━━━━━━━━━━━━━━━━\u001b[0m\u001b[37m\u001b[0m \u001b[1m1s\u001b[0m 46ms/step - accuracy: 0.9799 - loss: 1.4966 - val_accuracy: 0.0143 - val_loss: 11.5436\n",
      "Epoch 46/75\n",
      "\u001b[1m18/18\u001b[0m \u001b[32m━━━━━━━━━━━━━━━━━━━━\u001b[0m\u001b[37m\u001b[0m \u001b[1m1s\u001b[0m 39ms/step - accuracy: 0.9744 - loss: 1.4250 - val_accuracy: 0.0143 - val_loss: 11.5803\n",
      "Epoch 47/75\n",
      "\u001b[1m18/18\u001b[0m \u001b[32m━━━━━━━━━━━━━━━━━━━━\u001b[0m\u001b[37m\u001b[0m \u001b[1m1s\u001b[0m 53ms/step - accuracy: 0.9818 - loss: 1.3805 - val_accuracy: 0.0143 - val_loss: 11.4935\n",
      "Epoch 48/75\n",
      "\u001b[1m18/18\u001b[0m \u001b[32m━━━━━━━━━━━━━━━━━━━━\u001b[0m\u001b[37m\u001b[0m \u001b[1m1s\u001b[0m 47ms/step - accuracy: 0.9818 - loss: 1.3133 - val_accuracy: 0.0143 - val_loss: 11.6385\n",
      "Epoch 49/75\n",
      "\u001b[1m18/18\u001b[0m \u001b[32m━━━━━━━━━━━━━━━━━━━━\u001b[0m\u001b[37m\u001b[0m \u001b[1m1s\u001b[0m 59ms/step - accuracy: 0.9888 - loss: 1.2540 - val_accuracy: 0.0071 - val_loss: 11.6029\n",
      "Epoch 50/75\n",
      "\u001b[1m18/18\u001b[0m \u001b[32m━━━━━━━━━━━━━━━━━━━━\u001b[0m\u001b[37m\u001b[0m \u001b[1m1s\u001b[0m 42ms/step - accuracy: 0.9864 - loss: 1.1990 - val_accuracy: 0.0000e+00 - val_loss: 11.6884\n",
      "Epoch 51/75\n",
      "\u001b[1m18/18\u001b[0m \u001b[32m━━━━━━━━━━━━━━━━━━━━\u001b[0m\u001b[37m\u001b[0m \u001b[1m1s\u001b[0m 57ms/step - accuracy: 0.9881 - loss: 1.1619 - val_accuracy: 0.0000e+00 - val_loss: 11.6998\n",
      "Epoch 52/75\n",
      "\u001b[1m18/18\u001b[0m \u001b[32m━━━━━━━━━━━━━━━━━━━━\u001b[0m\u001b[37m\u001b[0m \u001b[1m1s\u001b[0m 50ms/step - accuracy: 0.9779 - loss: 1.1047 - val_accuracy: 0.0071 - val_loss: 11.5532\n",
      "Epoch 53/75\n",
      "\u001b[1m18/18\u001b[0m \u001b[32m━━━━━━━━━━━━━━━━━━━━\u001b[0m\u001b[37m\u001b[0m \u001b[1m1s\u001b[0m 44ms/step - accuracy: 0.9870 - loss: 1.0646 - val_accuracy: 0.0143 - val_loss: 11.7341\n",
      "Epoch 54/75\n",
      "\u001b[1m18/18\u001b[0m \u001b[32m━━━━━━━━━━━━━━━━━━━━\u001b[0m\u001b[37m\u001b[0m \u001b[1m1s\u001b[0m 45ms/step - accuracy: 0.9838 - loss: 1.0039 - val_accuracy: 0.0071 - val_loss: 11.8607\n",
      "Epoch 55/75\n",
      "\u001b[1m18/18\u001b[0m \u001b[32m━━━━━━━━━━━━━━━━━━━━\u001b[0m\u001b[37m\u001b[0m \u001b[1m1s\u001b[0m 43ms/step - accuracy: 0.9907 - loss: 0.9509 - val_accuracy: 0.0071 - val_loss: 11.9019\n",
      "Epoch 56/75\n",
      "\u001b[1m18/18\u001b[0m \u001b[32m━━━━━━━━━━━━━━━━━━━━\u001b[0m\u001b[37m\u001b[0m \u001b[1m1s\u001b[0m 45ms/step - accuracy: 0.9865 - loss: 0.9119 - val_accuracy: 0.0071 - val_loss: 11.8172\n",
      "Epoch 57/75\n",
      "\u001b[1m18/18\u001b[0m \u001b[32m━━━━━━━━━━━━━━━━━━━━\u001b[0m\u001b[37m\u001b[0m \u001b[1m1s\u001b[0m 43ms/step - accuracy: 0.9799 - loss: 0.8752 - val_accuracy: 0.0071 - val_loss: 11.8283\n",
      "Epoch 58/75\n",
      "\u001b[1m18/18\u001b[0m \u001b[32m━━━━━━━━━━━━━━━━━━━━\u001b[0m\u001b[37m\u001b[0m \u001b[1m1s\u001b[0m 34ms/step - accuracy: 0.9859 - loss: 0.8623 - val_accuracy: 0.0071 - val_loss: 11.8595\n",
      "Epoch 59/75\n",
      "\u001b[1m18/18\u001b[0m \u001b[32m━━━━━━━━━━━━━━━━━━━━\u001b[0m\u001b[37m\u001b[0m \u001b[1m1s\u001b[0m 35ms/step - accuracy: 0.9895 - loss: 0.8127 - val_accuracy: 0.0143 - val_loss: 11.9633\n",
      "Epoch 60/75\n",
      "\u001b[1m18/18\u001b[0m \u001b[32m━━━━━━━━━━━━━━━━━━━━\u001b[0m\u001b[37m\u001b[0m \u001b[1m1s\u001b[0m 34ms/step - accuracy: 0.9866 - loss: 0.7753 - val_accuracy: 0.0071 - val_loss: 12.0227\n",
      "Epoch 61/75\n",
      "\u001b[1m18/18\u001b[0m \u001b[32m━━━━━━━━━━━━━━━━━━━━\u001b[0m\u001b[37m\u001b[0m \u001b[1m1s\u001b[0m 37ms/step - accuracy: 0.9940 - loss: 0.7551 - val_accuracy: 0.0143 - val_loss: 11.9666\n",
      "Epoch 62/75\n",
      "\u001b[1m18/18\u001b[0m \u001b[32m━━━━━━━━━━━━━━━━━━━━\u001b[0m\u001b[37m\u001b[0m \u001b[1m1s\u001b[0m 34ms/step - accuracy: 0.9912 - loss: 0.7025 - val_accuracy: 0.0071 - val_loss: 11.9513\n",
      "Epoch 63/75\n",
      "\u001b[1m18/18\u001b[0m \u001b[32m━━━━━━━━━━━━━━━━━━━━\u001b[0m\u001b[37m\u001b[0m \u001b[1m1s\u001b[0m 35ms/step - accuracy: 0.9898 - loss: 0.7010 - val_accuracy: 0.0000e+00 - val_loss: 12.0061\n",
      "Epoch 64/75\n",
      "\u001b[1m18/18\u001b[0m \u001b[32m━━━━━━━━━━━━━━━━━━━━\u001b[0m\u001b[37m\u001b[0m \u001b[1m1s\u001b[0m 47ms/step - accuracy: 0.9796 - loss: 0.6554 - val_accuracy: 0.0071 - val_loss: 12.0210\n",
      "Epoch 65/75\n",
      "\u001b[1m18/18\u001b[0m \u001b[32m━━━━━━━━━━━━━━━━━━━━\u001b[0m\u001b[37m\u001b[0m \u001b[1m1s\u001b[0m 41ms/step - accuracy: 0.9881 - loss: 0.6420 - val_accuracy: 0.0000e+00 - val_loss: 12.0548\n",
      "Epoch 66/75\n",
      "\u001b[1m18/18\u001b[0m \u001b[32m━━━━━━━━━━━━━━━━━━━━\u001b[0m\u001b[37m\u001b[0m \u001b[1m1s\u001b[0m 41ms/step - accuracy: 0.9824 - loss: 0.6202 - val_accuracy: 0.0071 - val_loss: 12.0755\n",
      "Epoch 67/75\n",
      "\u001b[1m18/18\u001b[0m \u001b[32m━━━━━━━━━━━━━━━━━━━━\u001b[0m\u001b[37m\u001b[0m \u001b[1m1s\u001b[0m 35ms/step - accuracy: 0.9888 - loss: 0.5858 - val_accuracy: 0.0071 - val_loss: 12.1214\n",
      "Epoch 68/75\n",
      "\u001b[1m18/18\u001b[0m \u001b[32m━━━━━━━━━━━━━━━━━━━━\u001b[0m\u001b[37m\u001b[0m \u001b[1m1s\u001b[0m 36ms/step - accuracy: 0.9893 - loss: 0.5751 - val_accuracy: 0.0071 - val_loss: 12.0983\n",
      "Epoch 69/75\n",
      "\u001b[1m18/18\u001b[0m \u001b[32m━━━━━━━━━━━━━━━━━━━━\u001b[0m\u001b[37m\u001b[0m \u001b[1m1s\u001b[0m 34ms/step - accuracy: 0.9777 - loss: 0.5523 - val_accuracy: 0.0143 - val_loss: 12.1716\n",
      "Epoch 70/75\n",
      "\u001b[1m18/18\u001b[0m \u001b[32m━━━━━━━━━━━━━━━━━━━━\u001b[0m\u001b[37m\u001b[0m \u001b[1m1s\u001b[0m 34ms/step - accuracy: 0.9937 - loss: 0.5306 - val_accuracy: 0.0143 - val_loss: 12.1874\n",
      "Epoch 71/75\n",
      "\u001b[1m18/18\u001b[0m \u001b[32m━━━━━━━━━━━━━━━━━━━━\u001b[0m\u001b[37m\u001b[0m \u001b[1m1s\u001b[0m 34ms/step - accuracy: 0.9893 - loss: 0.4985 - val_accuracy: 0.0071 - val_loss: 12.2582\n",
      "Epoch 72/75\n",
      "\u001b[1m18/18\u001b[0m \u001b[32m━━━━━━━━━━━━━━━━━━━━\u001b[0m\u001b[37m\u001b[0m \u001b[1m1s\u001b[0m 37ms/step - accuracy: 0.9920 - loss: 0.4746 - val_accuracy: 0.0071 - val_loss: 12.2078\n",
      "Epoch 73/75\n",
      "\u001b[1m18/18\u001b[0m \u001b[32m━━━━━━━━━━━━━━━━━━━━\u001b[0m\u001b[37m\u001b[0m \u001b[1m1s\u001b[0m 34ms/step - accuracy: 0.9906 - loss: 0.4738 - val_accuracy: 0.0143 - val_loss: 12.2023\n",
      "Epoch 74/75\n",
      "\u001b[1m18/18\u001b[0m \u001b[32m━━━━━━━━━━━━━━━━━━━━\u001b[0m\u001b[37m\u001b[0m \u001b[1m1s\u001b[0m 33ms/step - accuracy: 0.9939 - loss: 0.4544 - val_accuracy: 0.0071 - val_loss: 12.3370\n",
      "Epoch 75/75\n",
      "\u001b[1m18/18\u001b[0m \u001b[32m━━━━━━━━━━━━━━━━━━━━\u001b[0m\u001b[37m\u001b[0m \u001b[1m1s\u001b[0m 34ms/step - accuracy: 0.9928 - loss: 0.4285 - val_accuracy: 0.0071 - val_loss: 12.2897\n"
     ]
    },
    {
     "data": {
      "text/plain": [
       "<keras.src.callbacks.history.History at 0x23b7d8c15d0>"
      ]
     },
     "execution_count": 7,
     "metadata": {},
     "output_type": "execute_result"
    }
   ],
   "source": [
    "# Compile the model\n",
    "model.compile(loss='categorical_crossentropy', optimizer='adam', metrics=['accuracy'])\n",
    "\n",
    "# Train the model\n",
    "model.fit(train_sequences, train_labels, epochs=75, batch_size=32, validation_data=(test_sequences, test_labels))"
   ]
  },
  {
   "cell_type": "code",
   "execution_count": 8,
   "metadata": {},
   "outputs": [
    {
     "name": "stdout",
     "output_type": "stream",
     "text": [
      "done\n"
     ]
    }
   ],
   "source": [
    "# Use the trained model to predict LTL formulas for new NLP statements\n",
    "def convert_nlp_to_ltl(nlp_statements):\n",
    "    sequences = tokenizer.texts_to_sequences(nlp_statements)\n",
    "    padded_sequences = pad_sequences(sequences, maxlen=100)\n",
    "    predicted_labels = model.predict(padded_sequences)\n",
    "    predicted_ltl_formulas = le.inverse_transform(np.argmax(predicted_labels, axis=1))\n",
    "    return predicted_ltl_formulas\n",
    "\n",
    "print(\"done\")"
   ]
  },
  {
   "cell_type": "code",
   "execution_count": 14,
   "metadata": {},
   "outputs": [
    {
     "name": "stdout",
     "output_type": "stream",
     "text": [
      "\u001b[1m1/1\u001b[0m \u001b[32m━━━━━━━━━━━━━━━━━━━━\u001b[0m\u001b[37m\u001b[0m \u001b[1m0s\u001b[0m 39ms/step\n",
      " \"G(!software_update -> check)\"\n"
     ]
    }
   ],
   "source": [
    "new_nlp_statements = ['can you check for new updates']\n",
    "predicted_ltl_formulas = convert_nlp_to_ltl(new_nlp_statements)\n",
    "print(predicted_ltl_formulas[0])"
   ]
  },
  {
   "cell_type": "code",
   "execution_count": 10,
   "metadata": {},
   "outputs": [],
   "source": [
    "import pickle\n",
    "\n",
    "# Save the tokenizer\n",
    "#with open('tokenizer.pickle', 'wb') as handle:\n",
    "    #pickle.dump(tokenizer, handle, protocol=pickle.HIGHEST_PROTOCOL)\n"
   ]
  },
  {
   "cell_type": "code",
   "execution_count": 11,
   "metadata": {},
   "outputs": [],
   "source": [
    "# After fitting the Label Encoder\n",
    "#with open('label_encoder.pickle', 'wb') as handle:\n",
    "    #pickle.dump(le, handle, protocol=pickle.HIGHEST_PROTOCOL)\n"
   ]
  },
  {
   "cell_type": "code",
   "execution_count": 12,
   "metadata": {},
   "outputs": [],
   "source": [
    "# Save the trained LSTM model\n",
    "#model.save('lstm_model.h5')\n"
   ]
  }
 ],
 "metadata": {
  "kernelspec": {
   "display_name": "Python 3",
   "language": "python",
   "name": "python3"
  },
  "language_info": {
   "codemirror_mode": {
    "name": "ipython",
    "version": 3
   },
   "file_extension": ".py",
   "mimetype": "text/x-python",
   "name": "python",
   "nbconvert_exporter": "python",
   "pygments_lexer": "ipython3",
   "version": "3.11.9"
  }
 },
 "nbformat": 4,
 "nbformat_minor": 2
}
